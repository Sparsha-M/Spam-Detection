{
 "cells": [
  {
   "cell_type": "code",
   "execution_count": 1,
   "id": "a8a7a669",
   "metadata": {
    "_cell_guid": "b1076dfc-b9ad-4769-8c92-a6c4dae69d19",
    "_uuid": "8f2839f25d086af736a60e9eeb907d3b93b6e0e5",
    "execution": {
     "iopub.execute_input": "2021-10-23T13:21:31.235049Z",
     "iopub.status.busy": "2021-10-23T13:21:31.233345Z",
     "iopub.status.idle": "2021-10-23T13:21:31.247043Z",
     "shell.execute_reply": "2021-10-23T13:21:31.247571Z",
     "shell.execute_reply.started": "2021-10-22T14:51:07.000145Z"
    },
    "papermill": {
     "duration": 0.043659,
     "end_time": "2021-10-23T13:21:31.247824",
     "exception": false,
     "start_time": "2021-10-23T13:21:31.204165",
     "status": "completed"
    },
    "tags": []
   },
   "outputs": [],
   "source": [
    "import pandas as pd \n",
    "import os\n",
    "for dirname, _, filenames in os.walk('../input/spam-ham/spam.csv'):\n",
    "    for filename in filenames:\n",
    "        print(os.path.join(dirname, filename))\n",
    "        "
   ]
  },
  {
   "cell_type": "code",
   "execution_count": 2,
   "id": "58d558d3",
   "metadata": {
    "execution": {
     "iopub.execute_input": "2021-10-23T13:21:31.299484Z",
     "iopub.status.busy": "2021-10-23T13:21:31.298636Z",
     "iopub.status.idle": "2021-10-23T13:21:31.325128Z",
     "shell.execute_reply": "2021-10-23T13:21:31.325566Z",
     "shell.execute_reply.started": "2021-10-22T14:51:07.012224Z"
    },
    "papermill": {
     "duration": 0.05287,
     "end_time": "2021-10-23T13:21:31.325702",
     "exception": false,
     "start_time": "2021-10-23T13:21:31.272832",
     "status": "completed"
    },
    "tags": []
   },
   "outputs": [],
   "source": [
    "data=pd.read_csv('../input/spam-ham/spam.csv',encoding='latin-1')"
   ]
  },
  {
   "cell_type": "code",
   "execution_count": 3,
   "id": "0db80a1e",
   "metadata": {
    "execution": {
     "iopub.execute_input": "2021-10-23T13:21:31.379791Z",
     "iopub.status.busy": "2021-10-23T13:21:31.379268Z",
     "iopub.status.idle": "2021-10-23T13:21:31.391297Z",
     "shell.execute_reply": "2021-10-23T13:21:31.391756Z",
     "shell.execute_reply.started": "2021-10-22T14:51:07.039845Z"
    },
    "papermill": {
     "duration": 0.042388,
     "end_time": "2021-10-23T13:21:31.391904",
     "exception": false,
     "start_time": "2021-10-23T13:21:31.349516",
     "status": "completed"
    },
    "tags": []
   },
   "outputs": [
    {
     "data": {
      "text/html": [
       "<div>\n",
       "<style scoped>\n",
       "    .dataframe tbody tr th:only-of-type {\n",
       "        vertical-align: middle;\n",
       "    }\n",
       "\n",
       "    .dataframe tbody tr th {\n",
       "        vertical-align: top;\n",
       "    }\n",
       "\n",
       "    .dataframe thead th {\n",
       "        text-align: right;\n",
       "    }\n",
       "</style>\n",
       "<table border=\"1\" class=\"dataframe\">\n",
       "  <thead>\n",
       "    <tr style=\"text-align: right;\">\n",
       "      <th></th>\n",
       "      <th>class</th>\n",
       "      <th>message</th>\n",
       "      <th>Unnamed: 2</th>\n",
       "      <th>Unnamed: 3</th>\n",
       "      <th>Unnamed: 4</th>\n",
       "    </tr>\n",
       "  </thead>\n",
       "  <tbody>\n",
       "    <tr>\n",
       "      <th>0</th>\n",
       "      <td>ham</td>\n",
       "      <td>Go until jurong point, crazy.. Available only ...</td>\n",
       "      <td>NaN</td>\n",
       "      <td>NaN</td>\n",
       "      <td>NaN</td>\n",
       "    </tr>\n",
       "    <tr>\n",
       "      <th>1</th>\n",
       "      <td>ham</td>\n",
       "      <td>Ok lar... Joking wif u oni...</td>\n",
       "      <td>NaN</td>\n",
       "      <td>NaN</td>\n",
       "      <td>NaN</td>\n",
       "    </tr>\n",
       "    <tr>\n",
       "      <th>2</th>\n",
       "      <td>spam</td>\n",
       "      <td>Free entry in 2 a wkly comp to win FA Cup fina...</td>\n",
       "      <td>NaN</td>\n",
       "      <td>NaN</td>\n",
       "      <td>NaN</td>\n",
       "    </tr>\n",
       "    <tr>\n",
       "      <th>3</th>\n",
       "      <td>ham</td>\n",
       "      <td>U dun say so early hor... U c already then say...</td>\n",
       "      <td>NaN</td>\n",
       "      <td>NaN</td>\n",
       "      <td>NaN</td>\n",
       "    </tr>\n",
       "    <tr>\n",
       "      <th>4</th>\n",
       "      <td>ham</td>\n",
       "      <td>Nah I don't think he goes to usf, he lives aro...</td>\n",
       "      <td>NaN</td>\n",
       "      <td>NaN</td>\n",
       "      <td>NaN</td>\n",
       "    </tr>\n",
       "    <tr>\n",
       "      <th>5</th>\n",
       "      <td>spam</td>\n",
       "      <td>FreeMsg Hey there darling it's been 3 week's n...</td>\n",
       "      <td>NaN</td>\n",
       "      <td>NaN</td>\n",
       "      <td>NaN</td>\n",
       "    </tr>\n",
       "    <tr>\n",
       "      <th>6</th>\n",
       "      <td>ham</td>\n",
       "      <td>Even my brother is not like to speak with me. ...</td>\n",
       "      <td>NaN</td>\n",
       "      <td>NaN</td>\n",
       "      <td>NaN</td>\n",
       "    </tr>\n",
       "    <tr>\n",
       "      <th>7</th>\n",
       "      <td>ham</td>\n",
       "      <td>As per your request 'Melle Melle (Oru Minnamin...</td>\n",
       "      <td>NaN</td>\n",
       "      <td>NaN</td>\n",
       "      <td>NaN</td>\n",
       "    </tr>\n",
       "    <tr>\n",
       "      <th>8</th>\n",
       "      <td>spam</td>\n",
       "      <td>WINNER!! As a valued network customer you have...</td>\n",
       "      <td>NaN</td>\n",
       "      <td>NaN</td>\n",
       "      <td>NaN</td>\n",
       "    </tr>\n",
       "    <tr>\n",
       "      <th>9</th>\n",
       "      <td>spam</td>\n",
       "      <td>Had your mobile 11 months or more? U R entitle...</td>\n",
       "      <td>NaN</td>\n",
       "      <td>NaN</td>\n",
       "      <td>NaN</td>\n",
       "    </tr>\n",
       "  </tbody>\n",
       "</table>\n",
       "</div>"
      ],
      "text/plain": [
       "  class                                            message Unnamed: 2  \\\n",
       "0   ham  Go until jurong point, crazy.. Available only ...        NaN   \n",
       "1   ham                      Ok lar... Joking wif u oni...        NaN   \n",
       "2  spam  Free entry in 2 a wkly comp to win FA Cup fina...        NaN   \n",
       "3   ham  U dun say so early hor... U c already then say...        NaN   \n",
       "4   ham  Nah I don't think he goes to usf, he lives aro...        NaN   \n",
       "5  spam  FreeMsg Hey there darling it's been 3 week's n...        NaN   \n",
       "6   ham  Even my brother is not like to speak with me. ...        NaN   \n",
       "7   ham  As per your request 'Melle Melle (Oru Minnamin...        NaN   \n",
       "8  spam  WINNER!! As a valued network customer you have...        NaN   \n",
       "9  spam  Had your mobile 11 months or more? U R entitle...        NaN   \n",
       "\n",
       "  Unnamed: 3 Unnamed: 4  \n",
       "0        NaN        NaN  \n",
       "1        NaN        NaN  \n",
       "2        NaN        NaN  \n",
       "3        NaN        NaN  \n",
       "4        NaN        NaN  \n",
       "5        NaN        NaN  \n",
       "6        NaN        NaN  \n",
       "7        NaN        NaN  \n",
       "8        NaN        NaN  \n",
       "9        NaN        NaN  "
      ]
     },
     "execution_count": 3,
     "metadata": {},
     "output_type": "execute_result"
    }
   ],
   "source": [
    "data.head(10)"
   ]
  },
  {
   "cell_type": "code",
   "execution_count": 4,
   "id": "70855419",
   "metadata": {
    "execution": {
     "iopub.execute_input": "2021-10-23T13:21:31.443671Z",
     "iopub.status.busy": "2021-10-23T13:21:31.442834Z",
     "iopub.status.idle": "2021-10-23T13:21:31.451680Z",
     "shell.execute_reply": "2021-10-23T13:21:31.452146Z",
     "shell.execute_reply.started": "2021-10-22T14:51:07.053792Z"
    },
    "papermill": {
     "duration": 0.035773,
     "end_time": "2021-10-23T13:21:31.452274",
     "exception": false,
     "start_time": "2021-10-23T13:21:31.416501",
     "status": "completed"
    },
    "tags": []
   },
   "outputs": [
    {
     "data": {
      "text/html": [
       "<div>\n",
       "<style scoped>\n",
       "    .dataframe tbody tr th:only-of-type {\n",
       "        vertical-align: middle;\n",
       "    }\n",
       "\n",
       "    .dataframe tbody tr th {\n",
       "        vertical-align: top;\n",
       "    }\n",
       "\n",
       "    .dataframe thead th {\n",
       "        text-align: right;\n",
       "    }\n",
       "</style>\n",
       "<table border=\"1\" class=\"dataframe\">\n",
       "  <thead>\n",
       "    <tr style=\"text-align: right;\">\n",
       "      <th></th>\n",
       "      <th>class</th>\n",
       "      <th>message</th>\n",
       "      <th>Unnamed: 2</th>\n",
       "      <th>Unnamed: 3</th>\n",
       "      <th>Unnamed: 4</th>\n",
       "    </tr>\n",
       "  </thead>\n",
       "  <tbody>\n",
       "    <tr>\n",
       "      <th>5562</th>\n",
       "      <td>ham</td>\n",
       "      <td>Ok lor... Sony ericsson salesman... I ask shuh...</td>\n",
       "      <td>NaN</td>\n",
       "      <td>NaN</td>\n",
       "      <td>NaN</td>\n",
       "    </tr>\n",
       "    <tr>\n",
       "      <th>5563</th>\n",
       "      <td>ham</td>\n",
       "      <td>Ard 6 like dat lor.</td>\n",
       "      <td>NaN</td>\n",
       "      <td>NaN</td>\n",
       "      <td>NaN</td>\n",
       "    </tr>\n",
       "    <tr>\n",
       "      <th>5564</th>\n",
       "      <td>ham</td>\n",
       "      <td>Why don't you wait 'til at least wednesday to ...</td>\n",
       "      <td>NaN</td>\n",
       "      <td>NaN</td>\n",
       "      <td>NaN</td>\n",
       "    </tr>\n",
       "    <tr>\n",
       "      <th>5565</th>\n",
       "      <td>ham</td>\n",
       "      <td>Huh y lei...</td>\n",
       "      <td>NaN</td>\n",
       "      <td>NaN</td>\n",
       "      <td>NaN</td>\n",
       "    </tr>\n",
       "    <tr>\n",
       "      <th>5566</th>\n",
       "      <td>spam</td>\n",
       "      <td>REMINDER FROM O2: To get 2.50 pounds free call...</td>\n",
       "      <td>NaN</td>\n",
       "      <td>NaN</td>\n",
       "      <td>NaN</td>\n",
       "    </tr>\n",
       "    <tr>\n",
       "      <th>5567</th>\n",
       "      <td>spam</td>\n",
       "      <td>This is the 2nd time we have tried 2 contact u...</td>\n",
       "      <td>NaN</td>\n",
       "      <td>NaN</td>\n",
       "      <td>NaN</td>\n",
       "    </tr>\n",
       "    <tr>\n",
       "      <th>5568</th>\n",
       "      <td>ham</td>\n",
       "      <td>Will Ì_ b going to esplanade fr home?</td>\n",
       "      <td>NaN</td>\n",
       "      <td>NaN</td>\n",
       "      <td>NaN</td>\n",
       "    </tr>\n",
       "    <tr>\n",
       "      <th>5569</th>\n",
       "      <td>ham</td>\n",
       "      <td>Pity, * was in mood for that. So...any other s...</td>\n",
       "      <td>NaN</td>\n",
       "      <td>NaN</td>\n",
       "      <td>NaN</td>\n",
       "    </tr>\n",
       "    <tr>\n",
       "      <th>5570</th>\n",
       "      <td>ham</td>\n",
       "      <td>The guy did some bitching but I acted like i'd...</td>\n",
       "      <td>NaN</td>\n",
       "      <td>NaN</td>\n",
       "      <td>NaN</td>\n",
       "    </tr>\n",
       "    <tr>\n",
       "      <th>5571</th>\n",
       "      <td>ham</td>\n",
       "      <td>Rofl. Its true to its name</td>\n",
       "      <td>NaN</td>\n",
       "      <td>NaN</td>\n",
       "      <td>NaN</td>\n",
       "    </tr>\n",
       "  </tbody>\n",
       "</table>\n",
       "</div>"
      ],
      "text/plain": [
       "     class                                            message Unnamed: 2  \\\n",
       "5562   ham  Ok lor... Sony ericsson salesman... I ask shuh...        NaN   \n",
       "5563   ham                                Ard 6 like dat lor.        NaN   \n",
       "5564   ham  Why don't you wait 'til at least wednesday to ...        NaN   \n",
       "5565   ham                                       Huh y lei...        NaN   \n",
       "5566  spam  REMINDER FROM O2: To get 2.50 pounds free call...        NaN   \n",
       "5567  spam  This is the 2nd time we have tried 2 contact u...        NaN   \n",
       "5568   ham              Will Ì_ b going to esplanade fr home?        NaN   \n",
       "5569   ham  Pity, * was in mood for that. So...any other s...        NaN   \n",
       "5570   ham  The guy did some bitching but I acted like i'd...        NaN   \n",
       "5571   ham                         Rofl. Its true to its name        NaN   \n",
       "\n",
       "     Unnamed: 3 Unnamed: 4  \n",
       "5562        NaN        NaN  \n",
       "5563        NaN        NaN  \n",
       "5564        NaN        NaN  \n",
       "5565        NaN        NaN  \n",
       "5566        NaN        NaN  \n",
       "5567        NaN        NaN  \n",
       "5568        NaN        NaN  \n",
       "5569        NaN        NaN  \n",
       "5570        NaN        NaN  \n",
       "5571        NaN        NaN  "
      ]
     },
     "execution_count": 4,
     "metadata": {},
     "output_type": "execute_result"
    }
   ],
   "source": [
    "data.tail(10)"
   ]
  },
  {
   "cell_type": "code",
   "execution_count": 5,
   "id": "13fcb6d4",
   "metadata": {
    "execution": {
     "iopub.execute_input": "2021-10-23T13:21:31.516317Z",
     "iopub.status.busy": "2021-10-23T13:21:31.503078Z",
     "iopub.status.idle": "2021-10-23T13:21:31.528789Z",
     "shell.execute_reply": "2021-10-23T13:21:31.529245Z",
     "shell.execute_reply.started": "2021-10-22T14:51:07.078149Z"
    },
    "papermill": {
     "duration": 0.052728,
     "end_time": "2021-10-23T13:21:31.529377",
     "exception": false,
     "start_time": "2021-10-23T13:21:31.476649",
     "status": "completed"
    },
    "tags": []
   },
   "outputs": [
    {
     "data": {
      "text/plain": [
       "((5572, 5),\n",
       "        class                 message  \\\n",
       " count   5572                    5572   \n",
       " unique     2                    5169   \n",
       " top      ham  Sorry, I'll call later   \n",
       " freq    4825                      30   \n",
       " \n",
       "                                                Unnamed: 2  \\\n",
       " count                                                  50   \n",
       " unique                                                 43   \n",
       " top      bt not his girlfrnd... G o o d n i g h t . . .@\"   \n",
       " freq                                                    3   \n",
       " \n",
       "                    Unnamed: 3 Unnamed: 4  \n",
       " count                      12          6  \n",
       " unique                     10          5  \n",
       " top      MK17 92H. 450Ppw 16\"    GNT:-)\"  \n",
       " freq                        2          2  )"
      ]
     },
     "execution_count": 5,
     "metadata": {},
     "output_type": "execute_result"
    }
   ],
   "source": [
    "data.shape,data.describe()"
   ]
  },
  {
   "cell_type": "code",
   "execution_count": 6,
   "id": "02ea8e28",
   "metadata": {
    "execution": {
     "iopub.execute_input": "2021-10-23T13:21:31.581982Z",
     "iopub.status.busy": "2021-10-23T13:21:31.581139Z",
     "iopub.status.idle": "2021-10-23T13:21:31.591242Z",
     "shell.execute_reply": "2021-10-23T13:21:31.591654Z",
     "shell.execute_reply.started": "2021-10-22T14:51:07.108764Z"
    },
    "papermill": {
     "duration": 0.037574,
     "end_time": "2021-10-23T13:21:31.591783",
     "exception": false,
     "start_time": "2021-10-23T13:21:31.554209",
     "status": "completed"
    },
    "tags": []
   },
   "outputs": [
    {
     "data": {
      "text/html": [
       "<div>\n",
       "<style scoped>\n",
       "    .dataframe tbody tr th:only-of-type {\n",
       "        vertical-align: middle;\n",
       "    }\n",
       "\n",
       "    .dataframe tbody tr th {\n",
       "        vertical-align: top;\n",
       "    }\n",
       "\n",
       "    .dataframe thead th {\n",
       "        text-align: right;\n",
       "    }\n",
       "</style>\n",
       "<table border=\"1\" class=\"dataframe\">\n",
       "  <thead>\n",
       "    <tr style=\"text-align: right;\">\n",
       "      <th></th>\n",
       "      <th>class</th>\n",
       "      <th>message</th>\n",
       "    </tr>\n",
       "  </thead>\n",
       "  <tbody>\n",
       "    <tr>\n",
       "      <th>0</th>\n",
       "      <td>ham</td>\n",
       "      <td>Go until jurong point, crazy.. Available only ...</td>\n",
       "    </tr>\n",
       "    <tr>\n",
       "      <th>1</th>\n",
       "      <td>ham</td>\n",
       "      <td>Ok lar... Joking wif u oni...</td>\n",
       "    </tr>\n",
       "    <tr>\n",
       "      <th>2</th>\n",
       "      <td>spam</td>\n",
       "      <td>Free entry in 2 a wkly comp to win FA Cup fina...</td>\n",
       "    </tr>\n",
       "    <tr>\n",
       "      <th>3</th>\n",
       "      <td>ham</td>\n",
       "      <td>U dun say so early hor... U c already then say...</td>\n",
       "    </tr>\n",
       "    <tr>\n",
       "      <th>4</th>\n",
       "      <td>ham</td>\n",
       "      <td>Nah I don't think he goes to usf, he lives aro...</td>\n",
       "    </tr>\n",
       "  </tbody>\n",
       "</table>\n",
       "</div>"
      ],
      "text/plain": [
       "  class                                            message\n",
       "0   ham  Go until jurong point, crazy.. Available only ...\n",
       "1   ham                      Ok lar... Joking wif u oni...\n",
       "2  spam  Free entry in 2 a wkly comp to win FA Cup fina...\n",
       "3   ham  U dun say so early hor... U c already then say...\n",
       "4   ham  Nah I don't think he goes to usf, he lives aro..."
      ]
     },
     "execution_count": 6,
     "metadata": {},
     "output_type": "execute_result"
    }
   ],
   "source": [
    "import numpy as np\n",
    "#delete the columns with nan\n",
    "data=data.dropna(axis=1)\n",
    "#data.replace(0, np.nan, inplace= True)\n",
    "data.head(5)"
   ]
  },
  {
   "cell_type": "markdown",
   "id": "324d8385",
   "metadata": {
    "papermill": {
     "duration": 0.024928,
     "end_time": "2021-10-23T13:21:31.641597",
     "exception": false,
     "start_time": "2021-10-23T13:21:31.616669",
     "status": "completed"
    },
    "tags": []
   },
   "source": [
    "# label encoding"
   ]
  },
  {
   "cell_type": "code",
   "execution_count": 7,
   "id": "cccc105a",
   "metadata": {
    "execution": {
     "iopub.execute_input": "2021-10-23T13:21:31.695216Z",
     "iopub.status.busy": "2021-10-23T13:21:31.693500Z",
     "iopub.status.idle": "2021-10-23T13:21:32.482211Z",
     "shell.execute_reply": "2021-10-23T13:21:32.482707Z",
     "shell.execute_reply.started": "2021-10-22T14:51:07.127087Z"
    },
    "papermill": {
     "duration": 0.816367,
     "end_time": "2021-10-23T13:21:32.482883",
     "exception": false,
     "start_time": "2021-10-23T13:21:31.666516",
     "status": "completed"
    },
    "tags": []
   },
   "outputs": [
    {
     "data": {
      "text/html": [
       "<div>\n",
       "<style scoped>\n",
       "    .dataframe tbody tr th:only-of-type {\n",
       "        vertical-align: middle;\n",
       "    }\n",
       "\n",
       "    .dataframe tbody tr th {\n",
       "        vertical-align: top;\n",
       "    }\n",
       "\n",
       "    .dataframe thead th {\n",
       "        text-align: right;\n",
       "    }\n",
       "</style>\n",
       "<table border=\"1\" class=\"dataframe\">\n",
       "  <thead>\n",
       "    <tr style=\"text-align: right;\">\n",
       "      <th></th>\n",
       "      <th>class</th>\n",
       "      <th>message</th>\n",
       "    </tr>\n",
       "  </thead>\n",
       "  <tbody>\n",
       "    <tr>\n",
       "      <th>0</th>\n",
       "      <td>0</td>\n",
       "      <td>Go until jurong point, crazy.. Available only ...</td>\n",
       "    </tr>\n",
       "    <tr>\n",
       "      <th>1</th>\n",
       "      <td>0</td>\n",
       "      <td>Ok lar... Joking wif u oni...</td>\n",
       "    </tr>\n",
       "    <tr>\n",
       "      <th>2</th>\n",
       "      <td>1</td>\n",
       "      <td>Free entry in 2 a wkly comp to win FA Cup fina...</td>\n",
       "    </tr>\n",
       "    <tr>\n",
       "      <th>3</th>\n",
       "      <td>0</td>\n",
       "      <td>U dun say so early hor... U c already then say...</td>\n",
       "    </tr>\n",
       "    <tr>\n",
       "      <th>4</th>\n",
       "      <td>0</td>\n",
       "      <td>Nah I don't think he goes to usf, he lives aro...</td>\n",
       "    </tr>\n",
       "  </tbody>\n",
       "</table>\n",
       "</div>"
      ],
      "text/plain": [
       "   class                                            message\n",
       "0      0  Go until jurong point, crazy.. Available only ...\n",
       "1      0                      Ok lar... Joking wif u oni...\n",
       "2      1  Free entry in 2 a wkly comp to win FA Cup fina...\n",
       "3      0  U dun say so early hor... U c already then say...\n",
       "4      0  Nah I don't think he goes to usf, he lives aro..."
      ]
     },
     "execution_count": 7,
     "metadata": {},
     "output_type": "execute_result"
    }
   ],
   "source": [
    "from sklearn.preprocessing import LabelEncoder\n",
    "le=LabelEncoder()#creating the instance\n",
    "data['class']=le.fit_transform(data['class'])\n",
    "data.head()"
   ]
  },
  {
   "cell_type": "code",
   "execution_count": 8,
   "id": "e5ecdd03",
   "metadata": {
    "execution": {
     "iopub.execute_input": "2021-10-23T13:21:32.541537Z",
     "iopub.status.busy": "2021-10-23T13:21:32.540699Z",
     "iopub.status.idle": "2021-10-23T13:21:32.543124Z",
     "shell.execute_reply": "2021-10-23T13:21:32.543551Z",
     "shell.execute_reply.started": "2021-10-22T14:51:07.141081Z"
    },
    "papermill": {
     "duration": 0.034882,
     "end_time": "2021-10-23T13:21:32.543698",
     "exception": false,
     "start_time": "2021-10-23T13:21:32.508816",
     "status": "completed"
    },
    "tags": []
   },
   "outputs": [
    {
     "name": "stdout",
     "output_type": "stream",
     "text": [
      "5572\n",
      "0    0.865937\n",
      "1    0.134063\n",
      "Name: class, dtype: float64\n"
     ]
    }
   ],
   "source": [
    "print(len(data['message']))\n",
    "print(data['class'].value_counts(normalize=True))"
   ]
  },
  {
   "cell_type": "markdown",
   "id": "2cadf029",
   "metadata": {
    "papermill": {
     "duration": 0.026399,
     "end_time": "2021-10-23T13:21:32.596738",
     "exception": false,
     "start_time": "2021-10-23T13:21:32.570339",
     "status": "completed"
    },
    "tags": []
   },
   "source": [
    "# CountVectorizer"
   ]
  },
  {
   "cell_type": "code",
   "execution_count": 9,
   "id": "6ae55aaf",
   "metadata": {
    "execution": {
     "iopub.execute_input": "2021-10-23T13:21:32.659011Z",
     "iopub.status.busy": "2021-10-23T13:21:32.658421Z",
     "iopub.status.idle": "2021-10-23T13:21:32.901738Z",
     "shell.execute_reply": "2021-10-23T13:21:32.901287Z",
     "shell.execute_reply.started": "2021-10-22T14:51:07.285273Z"
    },
    "papermill": {
     "duration": 0.278552,
     "end_time": "2021-10-23T13:21:32.901899",
     "exception": false,
     "start_time": "2021-10-23T13:21:32.623347",
     "status": "completed"
    },
    "tags": []
   },
   "outputs": [
    {
     "name": "stdout",
     "output_type": "stream",
     "text": [
      "[[0 0 0 ... 0 0 0]\n",
      " [0 0 0 ... 0 0 0]\n",
      " [0 0 0 ... 0 0 0]\n",
      " ...\n",
      " [0 0 0 ... 0 0 0]\n",
      " [0 0 0 ... 0 0 0]\n",
      " [0 0 0 ... 0 0 0]]\n"
     ]
    }
   ],
   "source": [
    "from sklearn.feature_extraction.text import CountVectorizer\n",
    "v=CountVectorizer()\n",
    "messages=v.fit_transform(data['message'])\n",
    "print(messages.toarray())"
   ]
  },
  {
   "cell_type": "code",
   "execution_count": 10,
   "id": "0b01f150",
   "metadata": {
    "execution": {
     "iopub.execute_input": "2021-10-23T13:21:32.959463Z",
     "iopub.status.busy": "2021-10-23T13:21:32.958707Z",
     "iopub.status.idle": "2021-10-23T13:21:32.962046Z",
     "shell.execute_reply": "2021-10-23T13:21:32.961587Z",
     "shell.execute_reply.started": "2021-10-22T14:51:07.704385Z"
    },
    "papermill": {
     "duration": 0.034074,
     "end_time": "2021-10-23T13:21:32.962167",
     "exception": false,
     "start_time": "2021-10-23T13:21:32.928093",
     "status": "completed"
    },
    "tags": []
   },
   "outputs": [
    {
     "data": {
      "text/plain": [
       "(5572, 8672)"
      ]
     },
     "execution_count": 10,
     "metadata": {},
     "output_type": "execute_result"
    }
   ],
   "source": [
    "messages.shape"
   ]
  },
  {
   "cell_type": "markdown",
   "id": "ebeaaadc",
   "metadata": {
    "papermill": {
     "duration": 0.031588,
     "end_time": "2021-10-23T13:21:33.021008",
     "exception": false,
     "start_time": "2021-10-23T13:21:32.989420",
     "status": "completed"
    },
    "tags": []
   },
   "source": [
    "## TFIDF (Term Frequency and Inverse Document Frequency)"
   ]
  },
  {
   "cell_type": "markdown",
   "id": "5f04b149",
   "metadata": {
    "papermill": {
     "duration": 0.028307,
     "end_time": "2021-10-23T13:21:33.080169",
     "exception": false,
     "start_time": "2021-10-23T13:21:33.051862",
     "status": "completed"
    },
    "tags": []
   },
   "source": [
    "Term Frequency=(No. of rep of words in sentence)/(No. of words in sentence)\n",
    "IDF=(No. of sentences)/(No. of sentences containing words)"
   ]
  },
  {
   "cell_type": "code",
   "execution_count": 11,
   "id": "c226e58f",
   "metadata": {
    "execution": {
     "iopub.execute_input": "2021-10-23T13:21:33.137180Z",
     "iopub.status.busy": "2021-10-23T13:21:33.136615Z",
     "iopub.status.idle": "2021-10-23T13:21:34.059224Z",
     "shell.execute_reply": "2021-10-23T13:21:34.058766Z",
     "shell.execute_reply.started": "2021-10-22T14:51:07.714433Z"
    },
    "papermill": {
     "duration": 0.951903,
     "end_time": "2021-10-23T13:21:34.059352",
     "exception": false,
     "start_time": "2021-10-23T13:21:33.107449",
     "status": "completed"
    },
    "tags": []
   },
   "outputs": [
    {
     "name": "stdout",
     "output_type": "stream",
     "text": [
      "[[0. 0. 0. ... 0. 0. 0.]\n",
      " [0. 0. 0. ... 0. 0. 0.]\n",
      " [0. 0. 0. ... 0. 0. 0.]\n",
      " ...\n",
      " [0. 0. 0. ... 0. 0. 0.]\n",
      " [0. 0. 0. ... 0. 0. 0.]\n",
      " [0. 0. 0. ... 0. 0. 0.]]\n"
     ]
    }
   ],
   "source": [
    "import nltk\n",
    "from sklearn.feature_extraction.text import TfidfVectorizer\n",
    "cv=TfidfVectorizer()\n",
    "messagess=cv.fit_transform(data['message']).toarray()\n",
    "print(messagess)"
   ]
  },
  {
   "cell_type": "markdown",
   "id": "110fd6e2",
   "metadata": {
    "papermill": {
     "duration": 0.02614,
     "end_time": "2021-10-23T13:21:34.112219",
     "exception": false,
     "start_time": "2021-10-23T13:21:34.086079",
     "status": "completed"
    },
    "tags": []
   },
   "source": [
    "# train test split"
   ]
  },
  {
   "cell_type": "code",
   "execution_count": 12,
   "id": "97d38cf6",
   "metadata": {
    "execution": {
     "iopub.execute_input": "2021-10-23T13:21:34.164454Z",
     "iopub.status.busy": "2021-10-23T13:21:34.163959Z",
     "iopub.status.idle": "2021-10-23T13:21:34.383538Z",
     "shell.execute_reply": "2021-10-23T13:21:34.382763Z",
     "shell.execute_reply.started": "2021-10-22T14:51:08.086515Z"
    },
    "papermill": {
     "duration": 0.24678,
     "end_time": "2021-10-23T13:21:34.383685",
     "exception": false,
     "start_time": "2021-10-23T13:21:34.136905",
     "status": "completed"
    },
    "tags": []
   },
   "outputs": [],
   "source": [
    "from sklearn.model_selection import train_test_split\n",
    "x_train,x_test,y_train,y_test=train_test_split(messages,data['class'],test_size=0.1)#countervectorizer\n",
    "X_train,X_test,Y_train,Y_test=train_test_split(messagess,data['class'],test_size=0.1)#tfidf vectorizer"
   ]
  },
  {
   "cell_type": "markdown",
   "id": "9ac624b1",
   "metadata": {
    "papermill": {
     "duration": 0.030843,
     "end_time": "2021-10-23T13:21:34.450925",
     "exception": false,
     "start_time": "2021-10-23T13:21:34.420082",
     "status": "completed"
    },
    "tags": []
   },
   "source": [
    "### Oversampling"
   ]
  },
  {
   "cell_type": "code",
   "execution_count": 13,
   "id": "3f0c2d85",
   "metadata": {
    "execution": {
     "iopub.execute_input": "2021-10-23T13:21:34.509587Z",
     "iopub.status.busy": "2021-10-23T13:21:34.509072Z",
     "iopub.status.idle": "2021-10-23T13:21:34.706287Z",
     "shell.execute_reply": "2021-10-23T13:21:34.706682Z",
     "shell.execute_reply.started": "2021-10-22T14:51:08.319604Z"
    },
    "papermill": {
     "duration": 0.226104,
     "end_time": "2021-10-23T13:21:34.706873",
     "exception": false,
     "start_time": "2021-10-23T13:21:34.480769",
     "status": "completed"
    },
    "tags": []
   },
   "outputs": [],
   "source": [
    "from imblearn.over_sampling import RandomOverSampler"
   ]
  },
  {
   "cell_type": "code",
   "execution_count": 14,
   "id": "d85991f7",
   "metadata": {
    "execution": {
     "iopub.execute_input": "2021-10-23T13:21:34.759584Z",
     "iopub.status.busy": "2021-10-23T13:21:34.758782Z",
     "iopub.status.idle": "2021-10-23T13:21:34.767028Z",
     "shell.execute_reply": "2021-10-23T13:21:34.767506Z",
     "shell.execute_reply.started": "2021-10-22T14:51:08.325559Z"
    },
    "papermill": {
     "duration": 0.035803,
     "end_time": "2021-10-23T13:21:34.767639",
     "exception": false,
     "start_time": "2021-10-23T13:21:34.731836",
     "status": "completed"
    },
    "tags": []
   },
   "outputs": [],
   "source": [
    "sampler = RandomOverSampler(sampling_strategy=0.5)\n",
    "x_over_train,y_over_train = sampler.fit_resample(x_train,y_train)#cv"
   ]
  },
  {
   "cell_type": "code",
   "execution_count": 15,
   "id": "d179ff1e",
   "metadata": {
    "execution": {
     "iopub.execute_input": "2021-10-23T13:21:34.819419Z",
     "iopub.status.busy": "2021-10-23T13:21:34.818637Z",
     "iopub.status.idle": "2021-10-23T13:21:35.219875Z",
     "shell.execute_reply": "2021-10-23T13:21:35.219334Z",
     "shell.execute_reply.started": "2021-10-22T14:51:08.344872Z"
    },
    "papermill": {
     "duration": 0.427815,
     "end_time": "2021-10-23T13:21:35.220017",
     "exception": false,
     "start_time": "2021-10-23T13:21:34.792202",
     "status": "completed"
    },
    "tags": []
   },
   "outputs": [],
   "source": [
    "X_over_train,Y_over_train = sampler.fit_resample(X_train,Y_train)#tfidf"
   ]
  },
  {
   "cell_type": "code",
   "execution_count": 16,
   "id": "16e2067e",
   "metadata": {
    "execution": {
     "iopub.execute_input": "2021-10-23T13:21:35.325512Z",
     "iopub.status.busy": "2021-10-23T13:21:35.324632Z",
     "iopub.status.idle": "2021-10-23T13:21:35.335257Z",
     "shell.execute_reply": "2021-10-23T13:21:35.334788Z",
     "shell.execute_reply.started": "2021-10-22T14:51:08.75183Z"
    },
    "papermill": {
     "duration": 0.040176,
     "end_time": "2021-10-23T13:21:35.335377",
     "exception": false,
     "start_time": "2021-10-23T13:21:35.295201",
     "status": "completed"
    },
    "tags": []
   },
   "outputs": [
    {
     "name": "stdout",
     "output_type": "stream",
     "text": [
      "CounteVectoriser:\n",
      "Before sampling:\n",
      " 0    4331\n",
      "1     683\n",
      "Name: class, dtype: int64\n",
      "\n",
      "After Sampling :\n",
      " 0    4331\n",
      "1    2165\n",
      "Name: class, dtype: int64\n",
      "\n",
      " \n",
      "TFIDF Vectoriser:\n",
      " Before sampling:\n",
      " 0    4341\n",
      "1     673\n",
      "Name: class, dtype: int64\n",
      "\n",
      "After Sampling :\n",
      " 0    4341\n",
      "1    2170\n",
      "Name: class, dtype: int64\n"
     ]
    }
   ],
   "source": [
    "print('CounteVectoriser:\\nBefore sampling:\\n',y_train.value_counts())\n",
    "print()\n",
    "print('After Sampling :\\n',y_over_train.value_counts())\n",
    "print(\"\\n \\nTFIDF Vectoriser:\\n Before sampling:\\n\",Y_train.value_counts())\n",
    "print()\n",
    "print('After Sampling :\\n',Y_over_train.value_counts())"
   ]
  },
  {
   "cell_type": "markdown",
   "id": "6423cb4c",
   "metadata": {
    "papermill": {
     "duration": 0.026644,
     "end_time": "2021-10-23T13:21:35.389544",
     "exception": false,
     "start_time": "2021-10-23T13:21:35.362900",
     "status": "completed"
    },
    "tags": []
   },
   "source": [
    "# logistic regression"
   ]
  },
  {
   "cell_type": "code",
   "execution_count": 17,
   "id": "7caa3b33",
   "metadata": {
    "execution": {
     "iopub.execute_input": "2021-10-23T13:21:35.447521Z",
     "iopub.status.busy": "2021-10-23T13:21:35.446983Z",
     "iopub.status.idle": "2021-10-23T13:21:35.449271Z",
     "shell.execute_reply": "2021-10-23T13:21:35.448825Z",
     "shell.execute_reply.started": "2021-10-22T14:51:08.765065Z"
    },
    "papermill": {
     "duration": 0.032907,
     "end_time": "2021-10-23T13:21:35.449389",
     "exception": false,
     "start_time": "2021-10-23T13:21:35.416482",
     "status": "completed"
    },
    "tags": []
   },
   "outputs": [],
   "source": [
    "from sklearn.linear_model import LogisticRegression\n",
    "from sklearn.metrics import confusion_matrix,classification_report"
   ]
  },
  {
   "cell_type": "markdown",
   "id": "c39d03ac",
   "metadata": {
    "papermill": {
     "duration": 0.026616,
     "end_time": "2021-10-23T13:21:35.502930",
     "exception": false,
     "start_time": "2021-10-23T13:21:35.476314",
     "status": "completed"
    },
    "tags": []
   },
   "source": [
    "accuracy=(TP+TN)/Total   \n",
    "        \n",
    "Precision=TP/(TP+FP)\n",
    "\n",
    "Recall=TP/(TP+FN)\n",
    "      \n",
    "F1-Score=2*Precision*Recall/(Precision+Recall)"
   ]
  },
  {
   "cell_type": "markdown",
   "id": "5b0c3b5a",
   "metadata": {
    "papermill": {
     "duration": 0.026649,
     "end_time": "2021-10-23T13:21:35.556768",
     "exception": false,
     "start_time": "2021-10-23T13:21:35.530119",
     "status": "completed"
    },
    "tags": []
   },
   "source": [
    "### Before  over sampling"
   ]
  },
  {
   "cell_type": "code",
   "execution_count": 18,
   "id": "47eed7af",
   "metadata": {
    "execution": {
     "iopub.execute_input": "2021-10-23T13:21:35.613955Z",
     "iopub.status.busy": "2021-10-23T13:21:35.613088Z",
     "iopub.status.idle": "2021-10-23T13:21:36.971610Z",
     "shell.execute_reply": "2021-10-23T13:21:36.972424Z",
     "shell.execute_reply.started": "2021-10-22T14:51:08.777215Z"
    },
    "papermill": {
     "duration": 1.389103,
     "end_time": "2021-10-23T13:21:36.972674",
     "exception": false,
     "start_time": "2021-10-23T13:21:35.583571",
     "status": "completed"
    },
    "tags": []
   },
   "outputs": [
    {
     "name": "stdout",
     "output_type": "stream",
     "text": [
      "Count vectoriser:\n",
      "\n",
      "[[471  23]\n",
      " [  2  62]]\n",
      "              precision    recall  f1-score   support\n",
      "\n",
      "           0    0.99577   0.95344   0.97415       494\n",
      "           1    0.72941   0.96875   0.83221        64\n",
      "\n",
      "    accuracy                        0.95520       558\n",
      "   macro avg    0.86259   0.96110   0.90318       558\n",
      "weighted avg    0.96522   0.95520   0.95787       558\n",
      "\n",
      "\n",
      "\n",
      "TFIDF:\n",
      "\n",
      "[[483   1]\n",
      " [ 16  58]]\n",
      "              precision    recall  f1-score   support\n",
      "\n",
      "           0    0.96794   0.99793   0.98271       484\n",
      "           1    0.98305   0.78378   0.87218        74\n",
      "\n",
      "    accuracy                        0.96953       558\n",
      "   macro avg    0.97549   0.89086   0.92744       558\n",
      "weighted avg    0.96994   0.96953   0.96805       558\n",
      "\n"
     ]
    }
   ],
   "source": [
    "log_reg=LogisticRegression()\n",
    "log_reg.fit(x_train,y_train)#cv\n",
    "log_reg.fit(X_train,Y_train)#tfidf\n",
    "y_pred_lr=log_reg.predict(x_test)#cv\n",
    "Y_pred_lr=log_reg.predict(X_test)#tfidf\n",
    "print(\"Count vectoriser:\\n\")\n",
    "print(confusion_matrix(y_test,y_pred_lr))\n",
    "print(classification_report(y_test,y_pred_lr,digits=5))\n",
    "print(\"\\n\\nTFIDF:\\n\")\n",
    "print(confusion_matrix(Y_test,Y_pred_lr))\n",
    "print(classification_report(Y_test,Y_pred_lr,digits=5))"
   ]
  },
  {
   "cell_type": "markdown",
   "id": "f9e44528",
   "metadata": {
    "papermill": {
     "duration": 0.047769,
     "end_time": "2021-10-23T13:21:37.075832",
     "exception": false,
     "start_time": "2021-10-23T13:21:37.028063",
     "status": "completed"
    },
    "tags": []
   },
   "source": [
    "### After Over Sampling"
   ]
  },
  {
   "cell_type": "code",
   "execution_count": 19,
   "id": "3daa6deb",
   "metadata": {
    "execution": {
     "iopub.execute_input": "2021-10-23T13:21:37.134079Z",
     "iopub.status.busy": "2021-10-23T13:21:37.131205Z",
     "iopub.status.idle": "2021-10-23T13:21:38.923001Z",
     "shell.execute_reply": "2021-10-23T13:21:38.923806Z",
     "shell.execute_reply.started": "2021-10-22T14:51:10.132621Z"
    },
    "papermill": {
     "duration": 1.822584,
     "end_time": "2021-10-23T13:21:38.924074",
     "exception": false,
     "start_time": "2021-10-23T13:21:37.101490",
     "status": "completed"
    },
    "tags": []
   },
   "outputs": [
    {
     "name": "stdout",
     "output_type": "stream",
     "text": [
      "CountVectoriser:\n",
      "\n",
      "[[463  31]\n",
      " [  0  64]]\n",
      "              precision    recall  f1-score   support\n",
      "\n",
      "           0    1.00000   0.93725   0.96761       494\n",
      "           1    0.67368   1.00000   0.80503        64\n",
      "\n",
      "    accuracy                        0.94444       558\n",
      "   macro avg    0.83684   0.96862   0.88632       558\n",
      "weighted avg    0.96257   0.94444   0.94896       558\n",
      "\n",
      "\n",
      "\n",
      "TFIDF:\n",
      "\n",
      "[[483   1]\n",
      " [  9  65]]\n",
      "              precision    recall  f1-score   support\n",
      "\n",
      "           0    0.98171   0.99793   0.98975       484\n",
      "           1    0.98485   0.87838   0.92857        74\n",
      "\n",
      "    accuracy                        0.98208       558\n",
      "   macro avg    0.98328   0.93816   0.95916       558\n",
      "weighted avg    0.98212   0.98208   0.98164       558\n",
      "\n"
     ]
    }
   ],
   "source": [
    "log_reg_over=LogisticRegression()\n",
    "log_reg_over.fit(x_over_train,y_over_train)#cv\n",
    "log_reg_over.fit(X_over_train,Y_over_train)#tfidf\n",
    "y_pred_lr=log_reg_over.predict(x_test)\n",
    "Y_pred_lr=log_reg_over.predict(X_test)\n",
    "print(\"CountVectoriser:\\n\")\n",
    "cm_cv=confusion_matrix(y_test,y_pred_lr)\n",
    "print(cm_cv)\n",
    "print(classification_report(y_test,y_pred_lr,digits=5))\n",
    "print(\"\\n\\nTFIDF:\\n\")\n",
    "cm_tfidfv=confusion_matrix(Y_test,Y_pred_lr)\n",
    "print(cm_tfidfv)\n",
    "print(classification_report(Y_test,Y_pred_lr,digits=5))"
   ]
  },
  {
   "cell_type": "code",
   "execution_count": 20,
   "id": "06a36e7b",
   "metadata": {
    "execution": {
     "iopub.execute_input": "2021-10-23T13:21:39.031707Z",
     "iopub.status.busy": "2021-10-23T13:21:39.031149Z",
     "iopub.status.idle": "2021-10-23T13:21:39.377943Z",
     "shell.execute_reply": "2021-10-23T13:21:39.377365Z",
     "shell.execute_reply.started": "2021-10-22T14:51:11.957842Z"
    },
    "papermill": {
     "duration": 0.398845,
     "end_time": "2021-10-23T13:21:39.378078",
     "exception": false,
     "start_time": "2021-10-23T13:21:38.979233",
     "status": "completed"
    },
    "tags": []
   },
   "outputs": [
    {
     "data": {
      "text/plain": [
       "<AxesSubplot:>"
      ]
     },
     "execution_count": 20,
     "metadata": {},
     "output_type": "execute_result"
    },
    {
     "data": {
      "image/png": "[encoded data removed]",
      "text/plain": [
       "<Figure size 432x288 with 2 Axes>"
      ]
     },
     "metadata": {
      "needs_background": "light"
     },
     "output_type": "display_data"
    }
   ],
   "source": [
    "import matplotlib.pyplot as plt\n",
    "import seaborn as sns\n",
    "sns.heatmap(cm_cv,annot=True)"
   ]
  },
  {
   "cell_type": "code",
   "execution_count": 21,
   "id": "736346d2",
   "metadata": {
    "execution": {
     "iopub.execute_input": "2021-10-23T13:21:39.487036Z",
     "iopub.status.busy": "2021-10-23T13:21:39.480477Z",
     "iopub.status.idle": "2021-10-23T13:21:39.659042Z",
     "shell.execute_reply": "2021-10-23T13:21:39.658546Z",
     "shell.execute_reply.started": "2021-10-22T14:51:12.247114Z"
    },
    "papermill": {
     "duration": 0.252434,
     "end_time": "2021-10-23T13:21:39.659175",
     "exception": false,
     "start_time": "2021-10-23T13:21:39.406741",
     "status": "completed"
    },
    "tags": []
   },
   "outputs": [
    {
     "data": {
      "text/plain": [
       "<AxesSubplot:>"
      ]
     },
     "execution_count": 21,
     "metadata": {},
     "output_type": "execute_result"
    },
    {
     "data": {
      "image/png": "[encoded data removed]",
      "text/plain": [
       "<Figure size 432x288 with 2 Axes>"
      ]
     },
     "metadata": {
      "needs_background": "light"
     },
     "output_type": "display_data"
    }
   ],
   "source": [
    "sns.heatmap(cm_tfidfv,annot=True)"
   ]
  },
  {
   "cell_type": "code",
   "execution_count": 22,
   "id": "63bb9845",
   "metadata": {
    "execution": {
     "iopub.execute_input": "2021-10-23T13:21:39.723409Z",
     "iopub.status.busy": "2021-10-23T13:21:39.722849Z",
     "iopub.status.idle": "2021-10-23T13:21:39.727741Z",
     "shell.execute_reply": "2021-10-23T13:21:39.727275Z",
     "shell.execute_reply.started": "2021-10-22T14:51:12.469994Z"
    },
    "papermill": {
     "duration": 0.037386,
     "end_time": "2021-10-23T13:21:39.727908",
     "exception": false,
     "start_time": "2021-10-23T13:21:39.690522",
     "status": "completed"
    },
    "tags": []
   },
   "outputs": [
    {
     "name": "stdout",
     "output_type": "stream",
     "text": [
      "0.982078853046595\n"
     ]
    }
   ],
   "source": [
    "from sklearn.metrics import accuracy_score\n",
    "LR=accuracy_score(Y_test,Y_pred_lr)\n",
    "print(LR)"
   ]
  },
  {
   "cell_type": "markdown",
   "id": "f30d9c16",
   "metadata": {
    "papermill": {
     "duration": 0.030585,
     "end_time": "2021-10-23T13:21:39.788966",
     "exception": false,
     "start_time": "2021-10-23T13:21:39.758381",
     "status": "completed"
    },
    "tags": []
   },
   "source": [
    "# Naive bayes "
   ]
  },
  {
   "cell_type": "code",
   "execution_count": 23,
   "id": "9ef4d558",
   "metadata": {
    "execution": {
     "iopub.execute_input": "2021-10-23T13:21:39.854152Z",
     "iopub.status.busy": "2021-10-23T13:21:39.852478Z",
     "iopub.status.idle": "2021-10-23T13:21:40.003459Z",
     "shell.execute_reply": "2021-10-23T13:21:40.004443Z",
     "shell.execute_reply.started": "2021-10-22T14:51:12.478435Z"
    },
    "papermill": {
     "duration": 0.18537,
     "end_time": "2021-10-23T13:21:40.004716",
     "exception": false,
     "start_time": "2021-10-23T13:21:39.819346",
     "status": "completed"
    },
    "tags": []
   },
   "outputs": [],
   "source": [
    "from sklearn.naive_bayes import MultinomialNB\n",
    "NB_classifier =MultinomialNB()\n",
    "NB_classifier.fit(X_over_train , Y_over_train)\n",
    "y_pred_nb = NB_classifier.predict(X_test)"
   ]
  },
  {
   "cell_type": "code",
   "execution_count": 24,
   "id": "8c7292a6",
   "metadata": {
    "execution": {
     "iopub.execute_input": "2021-10-23T13:21:40.132171Z",
     "iopub.status.busy": "2021-10-23T13:21:40.131343Z",
     "iopub.status.idle": "2021-10-23T13:21:40.134647Z",
     "shell.execute_reply": "2021-10-23T13:21:40.135075Z",
     "shell.execute_reply.started": "2021-10-22T14:51:12.647901Z"
    },
    "papermill": {
     "duration": 0.069977,
     "end_time": "2021-10-23T13:21:40.135234",
     "exception": false,
     "start_time": "2021-10-23T13:21:40.065257",
     "status": "completed"
    },
    "tags": []
   },
   "outputs": [
    {
     "data": {
      "text/plain": [
       "(4379    0\n",
       " 150     0\n",
       " 4887    0\n",
       " 2307    1\n",
       " 1896    0\n",
       " Name: class, dtype: int64,\n",
       " array([0, 0, 0, 1, 0]))"
      ]
     },
     "execution_count": 24,
     "metadata": {},
     "output_type": "execute_result"
    }
   ],
   "source": [
    "Y_test.head(),y_pred_nb[0:5]"
   ]
  },
  {
   "cell_type": "code",
   "execution_count": 25,
   "id": "a40ca6e3",
   "metadata": {
    "execution": {
     "iopub.execute_input": "2021-10-23T13:21:40.202335Z",
     "iopub.status.busy": "2021-10-23T13:21:40.201449Z",
     "iopub.status.idle": "2021-10-23T13:21:40.209564Z",
     "shell.execute_reply": "2021-10-23T13:21:40.210038Z",
     "shell.execute_reply.started": "2021-10-22T14:51:12.659597Z"
    },
    "papermill": {
     "duration": 0.044277,
     "end_time": "2021-10-23T13:21:40.210197",
     "exception": false,
     "start_time": "2021-10-23T13:21:40.165920",
     "status": "completed"
    },
    "tags": []
   },
   "outputs": [
    {
     "name": "stdout",
     "output_type": "stream",
     "text": [
      "[[483   1]\n",
      " [  7  67]]\n",
      "              precision    recall  f1-score   support\n",
      "\n",
      "           0    0.98571   0.99793   0.99179       484\n",
      "           1    0.98529   0.90541   0.94366        74\n",
      "\n",
      "    accuracy                        0.98566       558\n",
      "   macro avg    0.98550   0.95167   0.96772       558\n",
      "weighted avg    0.98566   0.98566   0.98540       558\n",
      "\n"
     ]
    }
   ],
   "source": [
    "cm=confusion_matrix(Y_test,y_pred_nb)\n",
    "print(cm)\n",
    "print(classification_report(Y_test,y_pred_nb,digits=5))"
   ]
  },
  {
   "cell_type": "code",
   "execution_count": 26,
   "id": "f711f851",
   "metadata": {
    "execution": {
     "iopub.execute_input": "2021-10-23T13:21:40.272658Z",
     "iopub.status.busy": "2021-10-23T13:21:40.272106Z",
     "iopub.status.idle": "2021-10-23T13:21:40.476046Z",
     "shell.execute_reply": "2021-10-23T13:21:40.476463Z",
     "shell.execute_reply.started": "2021-10-22T14:51:12.687481Z"
    },
    "papermill": {
     "duration": 0.236387,
     "end_time": "2021-10-23T13:21:40.476644",
     "exception": false,
     "start_time": "2021-10-23T13:21:40.240257",
     "status": "completed"
    },
    "tags": []
   },
   "outputs": [
    {
     "data": {
      "text/plain": [
       "<AxesSubplot:>"
      ]
     },
     "execution_count": 26,
     "metadata": {},
     "output_type": "execute_result"
    },
    {
     "data": {
      "image/png": "[encoded data removed]",
      "text/plain": [
       "<Figure size 432x288 with 2 Axes>"
      ]
     },
     "metadata": {
      "needs_background": "light"
     },
     "output_type": "display_data"
    }
   ],
   "source": [
    "sns.heatmap(cm,annot=True)"
   ]
  },
  {
   "cell_type": "code",
   "execution_count": 27,
   "id": "772ede02",
   "metadata": {
    "execution": {
     "iopub.execute_input": "2021-10-23T13:21:40.545987Z",
     "iopub.status.busy": "2021-10-23T13:21:40.545387Z",
     "iopub.status.idle": "2021-10-23T13:21:40.548065Z",
     "shell.execute_reply": "2021-10-23T13:21:40.547477Z",
     "shell.execute_reply.started": "2021-10-22T14:51:12.945342Z"
    },
    "papermill": {
     "duration": 0.039043,
     "end_time": "2021-10-23T13:21:40.548195",
     "exception": false,
     "start_time": "2021-10-23T13:21:40.509152",
     "status": "completed"
    },
    "tags": []
   },
   "outputs": [
    {
     "name": "stdout",
     "output_type": "stream",
     "text": [
      "0.985663082437276\n"
     ]
    }
   ],
   "source": [
    "NB=accuracy_score(Y_test,y_pred_nb)\n",
    "print(NB)"
   ]
  },
  {
   "cell_type": "markdown",
   "id": "89101d00",
   "metadata": {
    "papermill": {
     "duration": 0.031564,
     "end_time": "2021-10-23T13:21:40.611621",
     "exception": false,
     "start_time": "2021-10-23T13:21:40.580057",
     "status": "completed"
    },
    "tags": []
   },
   "source": [
    "# Decision tree"
   ]
  },
  {
   "cell_type": "code",
   "execution_count": 28,
   "id": "f06684c9",
   "metadata": {
    "execution": {
     "iopub.execute_input": "2021-10-23T13:21:40.680024Z",
     "iopub.status.busy": "2021-10-23T13:21:40.679442Z",
     "iopub.status.idle": "2021-10-23T13:21:54.379210Z",
     "shell.execute_reply": "2021-10-23T13:21:54.378622Z",
     "shell.execute_reply.started": "2021-10-22T14:51:12.952917Z"
    },
    "papermill": {
     "duration": 13.735864,
     "end_time": "2021-10-23T13:21:54.379355",
     "exception": false,
     "start_time": "2021-10-23T13:21:40.643491",
     "status": "completed"
    },
    "tags": []
   },
   "outputs": [],
   "source": [
    "from sklearn.tree import DecisionTreeClassifier\n",
    "model=DecisionTreeClassifier()\n",
    "model.fit(X_over_train,Y_over_train)\n",
    "y_pred_dt = model.predict(X_test)"
   ]
  },
  {
   "cell_type": "code",
   "execution_count": 29,
   "id": "45ebc2ca",
   "metadata": {
    "execution": {
     "iopub.execute_input": "2021-10-23T13:21:54.447630Z",
     "iopub.status.busy": "2021-10-23T13:21:54.447069Z",
     "iopub.status.idle": "2021-10-23T13:21:54.450226Z",
     "shell.execute_reply": "2021-10-23T13:21:54.449678Z",
     "shell.execute_reply.started": "2021-10-22T14:51:28.428962Z"
    },
    "papermill": {
     "duration": 0.039366,
     "end_time": "2021-10-23T13:21:54.450341",
     "exception": false,
     "start_time": "2021-10-23T13:21:54.410975",
     "status": "completed"
    },
    "tags": []
   },
   "outputs": [
    {
     "data": {
      "text/plain": [
       "(4379    0\n",
       " 150     0\n",
       " 4887    0\n",
       " 2307    1\n",
       " 1896    0\n",
       " Name: class, dtype: int64,\n",
       " array([0, 0, 0, 1, 0]))"
      ]
     },
     "execution_count": 29,
     "metadata": {},
     "output_type": "execute_result"
    }
   ],
   "source": [
    "Y_test.head(),y_pred_dt[0:5]"
   ]
  },
  {
   "cell_type": "code",
   "execution_count": 30,
   "id": "0a895f87",
   "metadata": {
    "execution": {
     "iopub.execute_input": "2021-10-23T13:21:54.515617Z",
     "iopub.status.busy": "2021-10-23T13:21:54.515083Z",
     "iopub.status.idle": "2021-10-23T13:21:54.525493Z",
     "shell.execute_reply": "2021-10-23T13:21:54.525933Z",
     "shell.execute_reply.started": "2021-10-22T14:51:28.436678Z"
    },
    "papermill": {
     "duration": 0.044548,
     "end_time": "2021-10-23T13:21:54.526071",
     "exception": false,
     "start_time": "2021-10-23T13:21:54.481523",
     "status": "completed"
    },
    "tags": []
   },
   "outputs": [
    {
     "name": "stdout",
     "output_type": "stream",
     "text": [
      "[[474  10]\n",
      " [  7  67]]\n",
      "              precision    recall  f1-score   support\n",
      "\n",
      "           0    0.98545   0.97934   0.98238       484\n",
      "           1    0.87013   0.90541   0.88742        74\n",
      "\n",
      "    accuracy                        0.96953       558\n",
      "   macro avg    0.92779   0.94237   0.93490       558\n",
      "weighted avg    0.97015   0.96953   0.96979       558\n",
      "\n"
     ]
    }
   ],
   "source": [
    "cm=confusion_matrix(Y_test,y_pred_dt)\n",
    "print(cm)\n",
    "print(classification_report(Y_test,y_pred_dt,digits=5))"
   ]
  },
  {
   "cell_type": "code",
   "execution_count": 31,
   "id": "8811b034",
   "metadata": {
    "execution": {
     "iopub.execute_input": "2021-10-23T13:21:54.594342Z",
     "iopub.status.busy": "2021-10-23T13:21:54.593703Z",
     "iopub.status.idle": "2021-10-23T13:21:54.798778Z",
     "shell.execute_reply": "2021-10-23T13:21:54.798246Z",
     "shell.execute_reply.started": "2021-10-22T14:51:28.459077Z"
    },
    "papermill": {
     "duration": 0.240591,
     "end_time": "2021-10-23T13:21:54.798943",
     "exception": false,
     "start_time": "2021-10-23T13:21:54.558352",
     "status": "completed"
    },
    "tags": []
   },
   "outputs": [
    {
     "data": {
      "text/plain": [
       "<AxesSubplot:>"
      ]
     },
     "execution_count": 31,
     "metadata": {},
     "output_type": "execute_result"
    },
    {
     "data": {
      "image/png": "[encoded data removed]",
      "text/plain": [
       "<Figure size 432x288 with 2 Axes>"
      ]
     },
     "metadata": {
      "needs_background": "light"
     },
     "output_type": "display_data"
    }
   ],
   "source": [
    "sns.heatmap(cm,annot=True)"
   ]
  },
  {
   "cell_type": "code",
   "execution_count": 32,
   "id": "205b18ab",
   "metadata": {
    "execution": {
     "iopub.execute_input": "2021-10-23T13:21:54.867978Z",
     "iopub.status.busy": "2021-10-23T13:21:54.867418Z",
     "iopub.status.idle": "2021-10-23T13:21:54.871638Z",
     "shell.execute_reply": "2021-10-23T13:21:54.872170Z",
     "shell.execute_reply.started": "2021-10-22T14:51:28.685912Z"
    },
    "papermill": {
     "duration": 0.040692,
     "end_time": "2021-10-23T13:21:54.872318",
     "exception": false,
     "start_time": "2021-10-23T13:21:54.831626",
     "status": "completed"
    },
    "tags": []
   },
   "outputs": [
    {
     "name": "stdout",
     "output_type": "stream",
     "text": [
      "0.9695340501792115\n"
     ]
    }
   ],
   "source": [
    "DT=accuracy_score(Y_test,y_pred_dt)\n",
    "print(DT)"
   ]
  },
  {
   "cell_type": "markdown",
   "id": "d485e101",
   "metadata": {
    "papermill": {
     "duration": 0.033292,
     "end_time": "2021-10-23T13:21:54.939637",
     "exception": false,
     "start_time": "2021-10-23T13:21:54.906345",
     "status": "completed"
    },
    "tags": []
   },
   "source": [
    "# accuracy of all the model"
   ]
  },
  {
   "cell_type": "code",
   "execution_count": 33,
   "id": "827b0166",
   "metadata": {
    "execution": {
     "iopub.execute_input": "2021-10-23T13:21:55.009709Z",
     "iopub.status.busy": "2021-10-23T13:21:55.009158Z",
     "iopub.status.idle": "2021-10-23T13:21:55.014159Z",
     "shell.execute_reply": "2021-10-23T13:21:55.013679Z",
     "shell.execute_reply.started": "2021-10-22T14:51:28.693763Z"
    },
    "papermill": {
     "duration": 0.041182,
     "end_time": "2021-10-23T13:21:55.014278",
     "exception": false,
     "start_time": "2021-10-23T13:21:54.973096",
     "status": "completed"
    },
    "tags": []
   },
   "outputs": [
    {
     "name": "stdout",
     "output_type": "stream",
     "text": [
      "Accuracy :\n",
      " (a) logistic regression : 0.982078853046595\n",
      " (b) Decision Tree : 0.9695340501792115\n",
      " (c) Naive bayes : 0.985663082437276\n"
     ]
    }
   ],
   "source": [
    "print(\"Accuracy :\\n (a) logistic regression : \"+str(LR)+\"\\n (b) Decision Tree : \"+str(DT)+\"\\n (c) Naive bayes : \"+str(NB))\n"
   ]
  },
  {
   "cell_type": "code",
   "execution_count": 34,
   "id": "222ae87f",
   "metadata": {
    "execution": {
     "iopub.execute_input": "2021-10-23T13:21:55.082295Z",
     "iopub.status.busy": "2021-10-23T13:21:55.081751Z",
     "iopub.status.idle": "2021-10-23T13:21:55.086552Z",
     "shell.execute_reply": "2021-10-23T13:21:55.086986Z",
     "shell.execute_reply.started": "2021-10-22T14:51:28.706488Z"
    },
    "papermill": {
     "duration": 0.039921,
     "end_time": "2021-10-23T13:21:55.087119",
     "exception": false,
     "start_time": "2021-10-23T13:21:55.047198",
     "status": "completed"
    },
    "tags": []
   },
   "outputs": [
    {
     "name": "stdout",
     "output_type": "stream",
     "text": [
      "Naive bayes algorithm is much accurate than other two algorithm ie, accuracy(nb)=0.985663082437276\n"
     ]
    }
   ],
   "source": [
    "if((DT>LR) and (DT>NB)):\n",
    "    print(\"Decision tree algorithm is much accurate than other two algorithm ie, accuracy(dt)=\"+str(DT))\n",
    "elif((LR>DT) and (LR>NB)):\n",
    "    print(\"Logistic Regression algorithm is much accurate than other two algorithm ie, accuracy(lr)=\"+str(LR))\n",
    "else:\n",
    "    print(\"Naive bayes algorithm is much accurate than other two algorithm ie, accuracy(nb)=\"+str(NB))"
   ]
  }
 ],
 "metadata": {
  "kernelspec": {
   "display_name": "Python 3",
   "language": "python",
   "name": "python3"
  },
  "language_info": {
   "codemirror_mode": {
    "name": "ipython",
    "version": 3
   },
   "file_extension": ".py",
   "mimetype": "text/x-python",
   "name": "python",
   "nbconvert_exporter": "python",
   "pygments_lexer": "ipython3",
   "version": "3.7.10"
  },
  "papermill": {
   "default_parameters": {},
   "duration": 31.789145,
   "end_time": "2021-10-23T13:21:55.727771",
   "environment_variables": {},
   "exception": null,
   "input_path": "__notebook__.ipynb",
   "output_path": "__notebook__.ipynb",
   "parameters": {},
   "start_time": "2021-10-23T13:21:23.938626",
   "version": "2.3.3"
  }
 },
 "nbformat": 4,
 "nbformat_minor": 5
}
