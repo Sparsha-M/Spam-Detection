{
 "cells": [
  {
   "cell_type": "markdown",
   "metadata": {},
   "source": [
    "                                EMAIL SPAM DETECTION:\n",
    "LIBRARIES USED:(a)pandas\n",
    "               (b)numpy\n",
    "               (c)scikit-learn:for modeling purpose\n",
    "DATASET: "
   ]
  },
  {
   "cell_type": "markdown",
   "metadata": {},
   "source": [
    "importing all needed libraries"
   ]
  },
  {
   "cell_type": "code",
   "execution_count": 6,
   "metadata": {},
   "outputs": [],
   "source": [
    "import pandas as pd\n",
    "import numpy as np"
   ]
  },
  {
   "cell_type": "markdown",
   "metadata": {},
   "source": [
    "FEATURE EXTRACTION:\n",
    "sklearn.feature_extraction : this module is used to extract features in the form supported by MLalgorithms from datasets consisting of formats such as text.\n",
    "sklearn.feature_extraction.text :as raw data cannot be feeded into the algorithm so sklearn provides an utilities to convert them into numerical fixed set of data.\n",
    "vectorization : general process of turning a collection of text documents into numerical feature vectors.\n",
    "1.CountVectorizer implements both tokenization and occurrence counting in a single class"
   ]
  },
  {
   "cell_type": "code",
   "execution_count": 7,
   "metadata": {},
   "outputs": [],
   "source": [
    "from sklearn.feature_extraction.text import CountVectorizer"
   ]
  },
  {
   "cell_type": "markdown",
   "metadata": {},
   "source": [
    "MODEL EXTRACTION:\n",
    "sklearn.model_selection.train_test_split : Split arrays or matrices into random train and test subsets"
   ]
  },
  {
   "cell_type": "code",
   "execution_count": 8,
   "metadata": {},
   "outputs": [],
   "source": [
    "from sklearn.model_selection import train_test_split"
   ]
  },
  {
   "cell_type": "markdown",
   "metadata": {},
   "source": [
    "NAIVE BAYES :(supervised learning algorithm,used for classification problems)\n",
    "A supervised learning algorithm takes a known set of input data (the learning set) and known responses to the data (the output), and forms a model to generate reasonable predictions for the response to the new input data.\n",
    "\n",
    "\"AS WE HAVE DATA FOR THE OUTPUT ie, WHETHER THE EMAIL IS SPAM OR NOT(HAM) SO WE HAVE USED SUPERVISED LEARNING ALGO.\"\n",
    "\n",
    "NAIVE BAYES :assumption of conditional independence between every pair of features given the value of the class variable.\n",
    "\n",
    "MULTINOMIAL NAIVE BAYES :implements the naive Bayes algorithm for multinomially distributed data(Binomial exp. that give multiple outcome eg. You roll a die ten times to see what number you roll. There are 6 possibilities (1, 2, 3, 4, 5, 6), so this is a multinomial experiment.)"
   ]
  },
  {
   "cell_type": "code",
   "execution_count": 9,
   "metadata": {},
   "outputs": [],
   "source": [
    "from sklearn.naive_bayes import MultinomialNB"
   ]
  },
  {
   "cell_type": "markdown",
   "metadata": {},
   "source": [
    "dataset:https://raw.githubusercontent.com/amankharwal/SMS-Spam-Detection/master/spam.csv  (this csv file contains data ie,column: class(contains sapm or ham) , message(contains messages))\n",
    "read_csv : this will read a comma-separated values (csv) file into DataFrame.\n",
    "The purpose of encoding is to transform data so that it can be properly (and safely) consumed by a different type of system."
   ]
  },
  {
   "cell_type": "code",
   "execution_count": 10,
   "metadata": {},
   "outputs": [],
   "source": [
    "data = pd.read_csv(\"https://raw.githubusercontent.com/amankharwal/SMS-Spam-Detection/master/spam.csv\", encoding= 'latin-1')"
   ]
  },
  {
   "cell_type": "markdown",
   "metadata": {},
   "source": [
    "printing starting few rows to test for right type of data."
   ]
  },
  {
   "cell_type": "code",
   "execution_count": 11,
   "metadata": {
    "scrolled": true
   },
   "outputs": [
    {
     "data": {
      "text/html": [
       "<div>\n",
       "<style scoped>\n",
       "    .dataframe tbody tr th:only-of-type {\n",
       "        vertical-align: middle;\n",
       "    }\n",
       "\n",
       "    .dataframe tbody tr th {\n",
       "        vertical-align: top;\n",
       "    }\n",
       "\n",
       "    .dataframe thead th {\n",
       "        text-align: right;\n",
       "    }\n",
       "</style>\n",
       "<table border=\"1\" class=\"dataframe\">\n",
       "  <thead>\n",
       "    <tr style=\"text-align: right;\">\n",
       "      <th></th>\n",
       "      <th>class</th>\n",
       "      <th>message</th>\n",
       "      <th>Unnamed: 2</th>\n",
       "      <th>Unnamed: 3</th>\n",
       "      <th>Unnamed: 4</th>\n",
       "    </tr>\n",
       "  </thead>\n",
       "  <tbody>\n",
       "    <tr>\n",
       "      <th>0</th>\n",
       "      <td>ham</td>\n",
       "      <td>Go until jurong point, crazy.. Available only ...</td>\n",
       "      <td>NaN</td>\n",
       "      <td>NaN</td>\n",
       "      <td>NaN</td>\n",
       "    </tr>\n",
       "    <tr>\n",
       "      <th>1</th>\n",
       "      <td>ham</td>\n",
       "      <td>Ok lar... Joking wif u oni...</td>\n",
       "      <td>NaN</td>\n",
       "      <td>NaN</td>\n",
       "      <td>NaN</td>\n",
       "    </tr>\n",
       "    <tr>\n",
       "      <th>2</th>\n",
       "      <td>spam</td>\n",
       "      <td>Free entry in 2 a wkly comp to win FA Cup fina...</td>\n",
       "      <td>NaN</td>\n",
       "      <td>NaN</td>\n",
       "      <td>NaN</td>\n",
       "    </tr>\n",
       "    <tr>\n",
       "      <th>3</th>\n",
       "      <td>ham</td>\n",
       "      <td>U dun say so early hor... U c already then say...</td>\n",
       "      <td>NaN</td>\n",
       "      <td>NaN</td>\n",
       "      <td>NaN</td>\n",
       "    </tr>\n",
       "    <tr>\n",
       "      <th>4</th>\n",
       "      <td>ham</td>\n",
       "      <td>Nah I don't think he goes to usf, he lives aro...</td>\n",
       "      <td>NaN</td>\n",
       "      <td>NaN</td>\n",
       "      <td>NaN</td>\n",
       "    </tr>\n",
       "  </tbody>\n",
       "</table>\n",
       "</div>"
      ],
      "text/plain": [
       "  class                                            message Unnamed: 2  \\\n",
       "0   ham  Go until jurong point, crazy.. Available only ...        NaN   \n",
       "1   ham                      Ok lar... Joking wif u oni...        NaN   \n",
       "2  spam  Free entry in 2 a wkly comp to win FA Cup fina...        NaN   \n",
       "3   ham  U dun say so early hor... U c already then say...        NaN   \n",
       "4   ham  Nah I don't think he goes to usf, he lives aro...        NaN   \n",
       "\n",
       "  Unnamed: 3 Unnamed: 4  \n",
       "0        NaN        NaN  \n",
       "1        NaN        NaN  \n",
       "2        NaN        NaN  \n",
       "3        NaN        NaN  \n",
       "4        NaN        NaN  "
      ]
     },
     "execution_count": 11,
     "metadata": {},
     "output_type": "execute_result"
    }
   ],
   "source": [
    "data.head()"
   ]
  },
  {
   "cell_type": "markdown",
   "metadata": {},
   "source": [
    "numpy arrays are used as it can handle large data sets efficiently and with a minimum of fuss.\n",
    "x variable contains array of messages\n",
    "y variable contains arr of class(spam/ham)"
   ]
  },
  {
   "cell_type": "code",
   "execution_count": 12,
   "metadata": {},
   "outputs": [],
   "source": [
    "x = np.array(data[\"message\"])\n",
    "y = np.array(data[\"class\"])"
   ]
  },
  {
   "cell_type": "markdown",
   "metadata": {},
   "source": [
    "list of text documents"
   ]
  },
  {
   "cell_type": "code",
   "execution_count": 13,
   "metadata": {},
   "outputs": [
    {
     "data": {
      "text/plain": [
       "array(['Go until jurong point, crazy.. Available only in bugis n great world la e buffet... Cine there got amore wat...',\n",
       "       'Ok lar... Joking wif u oni...',\n",
       "       \"Free entry in 2 a wkly comp to win FA Cup final tkts 21st May 2005. Text FA to 87121 to receive entry question(std txt rate)T&C's apply 08452810075over18's\",\n",
       "       ..., 'Pity, * was in mood for that. So...any other suggestions?',\n",
       "       \"The guy did some bitching but I acted like i'd be interested in buying something else next week and he gave it to us for free\",\n",
       "       'Rofl. Its true to its name'], dtype=object)"
      ]
     },
     "execution_count": 13,
     "metadata": {},
     "output_type": "execute_result"
    }
   ],
   "source": [
    "x"
   ]
  },
  {
   "cell_type": "code",
   "execution_count": 14,
   "metadata": {},
   "outputs": [
    {
     "data": {
      "text/plain": [
       "array(['ham', 'ham', 'spam', ..., 'ham', 'ham', 'ham'], dtype=object)"
      ]
     },
     "execution_count": 14,
     "metadata": {},
     "output_type": "execute_result"
    }
   ],
   "source": [
    "y"
   ]
  },
  {
   "cell_type": "markdown",
   "metadata": {},
   "source": [
    "In order to use textual data for predictive modeling, the text must be parsed to remove certain words – this process is called tokenization.\n"
   ]
  },
  {
   "cell_type": "code",
   "execution_count": 15,
   "metadata": {},
   "outputs": [],
   "source": [
    "cv = CountVectorizer()"
   ]
  },
  {
   "cell_type": "markdown",
   "metadata": {},
   "source": [
    "tokenize the string and give us a vector for each string, each dimension of which corresponds to the number of times a token is found in the corresponding string"
   ]
  },
  {
   "cell_type": "code",
   "execution_count": 16,
   "metadata": {},
   "outputs": [],
   "source": [
    "X = cv.fit_transform(x) "
   ]
  },
  {
   "cell_type": "code",
   "execution_count": 17,
   "metadata": {},
   "outputs": [
    {
     "name": "stdout",
     "output_type": "stream",
     "text": [
      "  (0, 3550)\t1\n",
      "  (0, 8030)\t1\n",
      "  (0, 4350)\t1\n",
      "  (0, 5920)\t1\n",
      "  (0, 2327)\t1\n",
      "  (0, 1303)\t1\n",
      "  (0, 5537)\t1\n",
      "  (0, 4087)\t1\n",
      "  (0, 1751)\t1\n",
      "  (0, 3634)\t1\n",
      "  (0, 8489)\t1\n",
      "  (0, 4476)\t1\n",
      "  (0, 1749)\t1\n",
      "  (0, 2048)\t1\n",
      "  (0, 7645)\t1\n",
      "  (0, 3594)\t1\n",
      "  (0, 1069)\t1\n",
      "  (0, 8267)\t1\n",
      "  (1, 5504)\t1\n",
      "  (1, 4512)\t1\n",
      "  (1, 4318)\t1\n",
      "  (1, 8392)\t1\n",
      "  (1, 5533)\t1\n",
      "  (2, 4087)\t1\n",
      "  (2, 3358)\t1\n",
      "  :\t:\n",
      "  (5570, 4218)\t1\n",
      "  (5570, 8313)\t1\n",
      "  (5570, 1084)\t1\n",
      "  (5570, 4615)\t1\n",
      "  (5570, 7039)\t1\n",
      "  (5570, 3308)\t1\n",
      "  (5570, 7627)\t1\n",
      "  (5570, 1438)\t1\n",
      "  (5570, 5334)\t1\n",
      "  (5570, 2592)\t1\n",
      "  (5570, 8065)\t1\n",
      "  (5570, 1778)\t1\n",
      "  (5570, 7049)\t1\n",
      "  (5570, 2892)\t1\n",
      "  (5570, 3470)\t1\n",
      "  (5570, 1786)\t1\n",
      "  (5570, 3687)\t1\n",
      "  (5570, 4161)\t1\n",
      "  (5570, 903)\t1\n",
      "  (5570, 1546)\t1\n",
      "  (5571, 7756)\t1\n",
      "  (5571, 5244)\t1\n",
      "  (5571, 4225)\t2\n",
      "  (5571, 7885)\t1\n",
      "  (5571, 6505)\t1\n"
     ]
    }
   ],
   "source": [
    "print(X)"
   ]
  },
  {
   "cell_type": "markdown",
   "metadata": {},
   "source": [
    "train_test_split fn. takes a loaded dataset as input and returns the dataset split into two subsets( for training data and for testing data)\n",
    "\n",
    "X_train => will have 600 data points. Y_train => will have 400 data points. X_test=> will have class labels corresponding to 600 data points. Y_test=> will have class labels corresponding to 400 data points. by default"
   ]
  },
  {
   "cell_type": "code",
   "execution_count": 18,
   "metadata": {},
   "outputs": [],
   "source": [
    "X_train, X_test, y_train, y_test = train_test_split(X, y, test_size=0.33, random_state=42)"
   ]
  },
  {
   "cell_type": "code",
   "execution_count": 20,
   "metadata": {},
   "outputs": [
    {
     "name": "stdout",
     "output_type": "stream",
     "text": [
      "  (0, 7756)\t1\n",
      "  (0, 7595)\t1\n",
      "  (0, 1084)\t1\n",
      "  (0, 1351)\t1\n",
      "  (0, 8609)\t1\n",
      "  (0, 3308)\t1\n",
      "  (0, 4939)\t2\n",
      "  (0, 7627)\t1\n",
      "  (0, 1260)\t1\n",
      "  (0, 8362)\t1\n",
      "  (0, 6259)\t1\n",
      "  (0, 4669)\t1\n",
      "  (0, 1794)\t1\n",
      "  (0, 5291)\t1\n",
      "  (0, 3503)\t1\n",
      "  (0, 994)\t1\n",
      "  (0, 5184)\t1\n",
      "  (0, 7454)\t1\n",
      "  (0, 7041)\t1\n",
      "  (0, 2722)\t1\n",
      "  (1, 7756)\t1\n",
      "  (1, 8609)\t1\n",
      "  (1, 7627)\t1\n",
      "  (1, 3953)\t1\n",
      "  (1, 8219)\t1\n",
      "  :\t:\n",
      "  (3728, 6951)\t1\n",
      "  (3728, 5894)\t1\n",
      "  (3728, 3937)\t1\n",
      "  (3728, 3964)\t1\n",
      "  (3729, 1813)\t1\n",
      "  (3729, 4669)\t1\n",
      "  (3729, 7076)\t1\n",
      "  (3729, 4525)\t1\n",
      "  (3730, 3797)\t1\n",
      "  (3730, 5994)\t1\n",
      "  (3730, 7083)\t1\n",
      "  (3730, 6281)\t1\n",
      "  (3730, 3387)\t1\n",
      "  (3730, 7082)\t1\n",
      "  (3731, 4318)\t1\n",
      "  (3731, 6743)\t1\n",
      "  (3731, 5427)\t1\n",
      "  (3731, 7774)\t1\n",
      "  (3732, 4087)\t2\n",
      "  (3732, 5420)\t1\n",
      "  (3732, 3770)\t1\n",
      "  (3732, 3563)\t1\n",
      "  (3732, 8482)\t1\n",
      "  (3732, 5023)\t1\n",
      "  (3732, 3174)\t1\n"
     ]
    }
   ],
   "source": [
    "print(X_train)"
   ]
  },
  {
   "cell_type": "code",
   "execution_count": 21,
   "metadata": {},
   "outputs": [],
   "source": [
    "clf = MultinomialNB()"
   ]
  },
  {
   "cell_type": "code",
   "execution_count": 22,
   "metadata": {},
   "outputs": [
    {
     "data": {
      "text/plain": [
       "MultinomialNB(alpha=1.0, class_prior=None, fit_prior=True)"
      ]
     },
     "execution_count": 22,
     "metadata": {},
     "output_type": "execute_result"
    }
   ],
   "source": [
    "clf.fit(X_train,y_train)"
   ]
  },
  {
   "cell_type": "markdown",
   "metadata": {},
   "source": [
    "I need to see the accuracy of my model using score "
   ]
  },
  {
   "cell_type": "code",
   "execution_count": 23,
   "metadata": {},
   "outputs": [
    {
     "data": {
      "text/plain": [
       "0.9793365959760739"
      ]
     },
     "execution_count": 23,
     "metadata": {},
     "output_type": "execute_result"
    }
   ],
   "source": [
    "clf.score(X_test,y_test)"
   ]
  },
  {
   "cell_type": "code",
   "execution_count": 24,
   "metadata": {},
   "outputs": [
    {
     "data": {
      "text/plain": [
       "0.99464237878382"
      ]
     },
     "execution_count": 24,
     "metadata": {},
     "output_type": "execute_result"
    }
   ],
   "source": [
    "clf.score(X_train,y_train)"
   ]
  },
  {
   "cell_type": "markdown",
   "metadata": {},
   "source": [
    "we have trained the model now testing"
   ]
  },
  {
   "cell_type": "code",
   "execution_count": 31,
   "metadata": {},
   "outputs": [
    {
     "name": "stdout",
     "output_type": "stream",
     "text": [
      "Enter a message:Nice to meet you\n",
      "['ham']\n"
     ]
    }
   ],
   "source": [
    "sample = input('Enter a message:')\n",
    "data = cv.transform([sample]).toarray()\n",
    "print(clf.predict(data))"
   ]
  }
 ],
 "metadata": {
  "kernelspec": {
   "display_name": "Python 3",
   "language": "python",
   "name": "python3"
  },
  "language_info": {
   "codemirror_mode": {
    "name": "ipython",
    "version": 3
   },
   "file_extension": ".py",
   "mimetype": "text/x-python",
   "name": "python",
   "nbconvert_exporter": "python",
   "pygments_lexer": "ipython3",
   "version": "3.7.6"
  }
 },
 "nbformat": 4,
 "nbformat_minor": 4
}
